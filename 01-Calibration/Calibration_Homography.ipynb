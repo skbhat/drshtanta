{
 "cells": [
  {
   "cell_type": "code",
   "execution_count": null,
   "metadata": {},
   "outputs": [],
   "source": [
    "import numpy as np\n",
    "import cv2\n",
    "import glob\n",
    "import matplotlib.pyplot as plt\n",
    "import matplotlib.patches as patches\n",
    "from IPython.display import HTML\n",
    "%matplotlib inline\n",
    "SanityCheck = True\n",
    "FrameCount = 0"
   ]
  },
  {
   "cell_type": "code",
   "execution_count": null,
   "metadata": {},
   "outputs": [],
   "source": [
    "# prepare object points, like (0,0,0), (1,0,0), (2,0,0) ....,(6,5,0)\n",
    "objp = np.zeros((6*9,3), np.float32)\n",
    "objp[:,:2] = np.mgrid[0:9,0:6].T.reshape(-1,2)\n",
    "\n",
    "# Arrays to store object points and image points from all the images.\n",
    "objpoints = [] # 3d points in real world space\n",
    "imgpoints = [] # 2d points in image plane.\n",
    "\n",
    "# Make a list of calibration images\n",
    "images = glob.glob('./camera_cal/calibration*.jpg')\n",
    "\n",
    "# Step through the list and search for chessboard corners\n",
    "for fname in images:\n",
    "    img = cv2.imread(fname)\n",
    "    gray = cv2.cvtColor(img,cv2.COLOR_BGR2GRAY)\n",
    "\n",
    "    # Find the chessboard corners\n",
    "    ret, corners = cv2.findChessboardCorners(gray, (9,6),None)\n",
    "\n",
    "    # If found, add object points, image points\n",
    "    if ret == True:\n",
    "        objpoints.append(objp)\n",
    "        imgpoints.append(corners)\n",
    "\n",
    "        # Draw and display the corners\n",
    "        img = cv2.drawChessboardCorners(img, (9,6), corners, ret)\n",
    "        \n",
    "        f, (ax1) = plt.subplots(1, 1, figsize=(24, 9))\n",
    "        f.tight_layout()\n",
    "        ax1.imshow(img)\n",
    "\n",
    "ret, mat_undistort, dist, rvecs, tvecs = cv2.calibrateCamera(objpoints, imgpoints, gray.shape[::-1], None, None)"
   ]
  },
  {
   "cell_type": "code",
   "execution_count": null,
   "metadata": {},
   "outputs": [],
   "source": [
    "if SanityCheck:\n",
    "    fname = images[9] #Choose any image\n",
    "    img = cv2.imread(fname)\n",
    "    undist = cv2.undistort(img, mat_undistort, dist, None, mat_undistort)\n",
    "    f, (ax1, ax2) = plt.subplots(1, 2, figsize=(24, 9))\n",
    "    f.tight_layout()\n",
    "    ax1.imshow(img)\n",
    "    ax1.set_title('Original Image', fontsize=50)\n",
    "    ax2.imshow(undist)\n",
    "    ax2.set_title('Undistorted Image', fontsize=50)\n",
    "    plt.subplots_adjust(left=0., right=1, top=0.9, bottom=0.)"
   ]
  },
  {
   "cell_type": "code",
   "execution_count": null,
   "metadata": {},
   "outputs": [],
   "source": [
    "def perspective_transform(persp_M, pts):#persp_M is 3x3 matrix and pts is Nx2 array of points\n",
    "    pts_aff = pts.transpose()\n",
    "    pts_aff = np.vstack((pts_aff, np.ones((1,pts_aff.shape[1]))))\n",
    "    trans_aff = np.matmul(persp_M,pts_aff)\n",
    "    trans = np.divide(trans_aff[:-1,:], trans_aff[-1,:])\n",
    "    return(trans)"
   ]
  },
  {
   "cell_type": "code",
   "execution_count": null,
   "metadata": {},
   "outputs": [],
   "source": [
    "src = np.float32([[210,719], [1105, 719], [685, 450], [595,450]])\n",
    "dst = np.float32([[350, 719], [950, 719], [950, 0], [350, 0]])\n",
    "#src = np.float32([[210,719], [1105, 719], [765, 500], [525,500]])\n",
    "#dst = np.float32([[350, 719], [950, 719], [950, 0], [350, 0]])\n",
    "\n",
    "# Given src and dst points, calculate the perspective transform matrix\n",
    "mat_persp_trans = cv2.getPerspectiveTransform(src, dst)\n",
    "mat_inv_persp_trans = np.linalg.inv(mat_persp_trans)\n",
    "\n",
    "#Printing the values desired and achieved transformation of the source points\n",
    "transp = perspective_transform(mat_persp_trans, src); transp = transp.transpose().astype(np.int32);\n",
    "print('The desired destination points are :')\n",
    "print(dst.astype(np.int32))\n",
    "print('\\nThe transformation matrix maps them to:')\n",
    "print(transp);\n",
    "print('The transformation seems to be fine.')"
   ]
  },
  {
   "cell_type": "code",
   "execution_count": null,
   "metadata": {},
   "outputs": [],
   "source": [
    "if SanityCheck:\n",
    "    img = cv2.imread('./test_images/straight_lines1.jpg')\n",
    "    img = cv2.cvtColor(img,cv2.COLOR_BGR2RGB)\n",
    "    img_size = (img.shape[1], img.shape[0])\n",
    "    undist = cv2.undistort(img, mat_undistort, dist, None, mat_undistort)\n",
    "    warped = cv2.warpPerspective(undist, mat_persp_trans, (img.shape[1], img.shape[0]))\n",
    "    \n",
    "    #Plot the images\n",
    "    f, (ax1, ax2, ax3) = plt.subplots(1, 3, figsize=(24, 9))\n",
    "    f.tight_layout()\n",
    "    ax1.imshow(img)\n",
    "    ax1.set_title('Original Image', fontsize=50)\n",
    "    ax2.imshow(undist)\n",
    "    ax2.add_patch(patches.Polygon(src, fill=False, edgecolor='red', linewidth=3.5))\n",
    "    ax2.set_title('Undistorted Image', fontsize=50)\n",
    "    ax3.imshow(warped)\n",
    "    ax3.add_patch(patches.Polygon(transp, fill=False, edgecolor='red', linewidth=3.5))\n",
    "    ax3.set_title('warped', fontsize=50)\n",
    "    plt.subplots_adjust(left=0., right=1, top=0.9, bottom=0.)"
   ]
  },
  {
   "cell_type": "code",
   "execution_count": null,
   "metadata": {},
   "outputs": [],
   "source": []
  }
 ],
 "metadata": {
  "kernelspec": {
   "display_name": "Python 3",
   "language": "python",
   "name": "python3"
  },
  "language_info": {
   "codemirror_mode": {
    "name": "ipython",
    "version": 3
   },
   "file_extension": ".py",
   "mimetype": "text/x-python",
   "name": "python",
   "nbconvert_exporter": "python",
   "pygments_lexer": "ipython3",
   "version": "3.5.5"
  }
 },
 "nbformat": 4,
 "nbformat_minor": 2
}
